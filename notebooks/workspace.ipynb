{
 "cells": [
  {
   "cell_type": "code",
   "execution_count": 1,
   "metadata": {},
   "outputs": [],
   "source": [
    "import os\n",
    "import json\n",
    "import openai\n",
    "import random"
   ]
  },
  {
   "cell_type": "code",
   "execution_count": 2,
   "metadata": {},
   "outputs": [],
   "source": [
    "## PASTE key from .env \n",
    "model = 'gpt-3.5-0613'\n",
    "openai.api_key = os.getenv('OPENAI_API_KEY')"
   ]
  },
  {
   "cell_type": "code",
   "execution_count": 15,
   "metadata": {},
   "outputs": [
    {
     "name": "stdout",
     "output_type": "stream",
     "text": [
      "zoox_DigitalSignalProcessingInternship.txt\n"
     ]
    }
   ],
   "source": [
    "dir_path = '../db/job_details'\n",
    "files = os.listdir(dir_path)\n",
    "random_file = random.choice(files)\n",
    "print(random_file)\n",
    "with open(os.path.join(dir_path, random_file), 'r') as file:\n",
    "    jobdetails_txt = file.read()"
   ]
  },
  {
   "cell_type": "code",
   "execution_count": 26,
   "metadata": {},
   "outputs": [],
   "source": [
    "prompt = f\"\"\"\n",
    "\n",
    "Please provide me the following in JSON format:\n",
    "\n",
    "- Job Title: The role that the job details are about\n",
    "- Job Description: A description of the job\n",
    "- Prerequisites: The minimum skills required for the job. Please include all necessary requirements for the job.\n",
    "- Preferred Qualifications: The skills or requirements that are not necessary but are preferred for the job.\n",
    " Any additional requirements comes under this category.\n",
    "\n",
    "Please make sure not to repeat data in multiple fields.\n",
    "\n",
    "Here is the text format of the job details.You will have to parse this into the above-mentioned format:\n",
    "{jobdetails_txt}\n",
    "\"\"\""
   ]
  },
  {
   "cell_type": "code",
   "execution_count": 27,
   "metadata": {},
   "outputs": [],
   "source": [
    "basic_prompt = f\"\"\"\n",
    "\n",
    "Please provide me the following in JSON format:\n",
    "\n",
    "Divide them into different fields as title description, prerequisites, preferred skills, etc.\n",
    "\n",
    "Here is the text format of the job details\n",
    "{jobdetails_txt}\n",
    "\"\"\""
   ]
  },
  {
   "cell_type": "code",
   "execution_count": 28,
   "metadata": {},
   "outputs": [
    {
     "name": "stdout",
     "output_type": "stream",
     "text": [
      "{\n",
      "  \"Job Title\": \"Data Signal Processing Intern - Zoox\",\n",
      "  \"Job Description\": \"As an intern on the Advanced Hardware Engineering DSP team, you'll be working alongside those that architect, design, and develop our state-of-the-art hardware and Signal Processing Systems required for enabling autonomous mobility. At Zoox, you'll collaborate with a team of world-class engineers with diverse backgrounds in areas such as AI, robotics, machine learning, localization, computer vision, and simulation. You'll master new technologies while working on code, algorithms, and research in your area of expertise to create and refine key systems and move Zoox forward. As an intern in the DSP team, you will be working on design and implementation of signal processing and ML algorithms related to radars, depth cameras, audio subsystems, and Lidars. We are looking for curious and highly mathematical minds to work with us.\",\n",
      "  \"Prerequisites\": {\n",
      "    \"Proficiency in\": [\"C\", \"C++\", \"Python\", \"Matlab\"],\n",
      "    \"Course work in\": [\"Digital Signal Processing\", \"Circuits and systems\", \"Optimum filtering\", \"Probability and Statistics\", \"Random Signals and Noise\"],\n",
      "    \"Hands on experience related to\": [\"digital signal processors and/or algorithm design in one or more areas related to radar, lidar, depth cameras, audio or other signal processing related fields\"]\n",
      "  },\n",
      "  \"Preferred Qualifications\": {\n",
      "    \"Applied machine learning experience related to\": [\"computer vision, audio or other related area is a plus\"]\n",
      "  }\n",
      "}\n"
     ]
    }
   ],
   "source": [
    "def get_messages(prompt):\n",
    "  messages = [\n",
    "    {\n",
    "    \"role\": \"user\",\n",
    "    \"content\": prompt,\n",
    "    }\n",
    "  ]\n",
    "  return messages\n",
    "\n",
    "def get_completion(messages):\n",
    "        response = openai.ChatCompletion.create(\n",
    "            model='gpt-3.5-turbo-0613',\n",
    "            messages=messages,\n",
    "            temperature=0\n",
    "        )\n",
    "        return response\n",
    "\n",
    "\n",
    "import json\n",
    "(json.dumps(prompt))\n",
    "\n",
    "result = get_completion(get_messages(prompt))\n",
    "print(result.choices[0]['message']['content'])"
   ]
  },
  {
   "cell_type": "code",
   "execution_count": 29,
   "metadata": {},
   "outputs": [
    {
     "name": "stdout",
     "output_type": "stream",
     "text": [
      "{\n",
      "  \"title\": \"Data Signal Processing Intern - Zoox\",\n",
      "  \"description\": \"As an intern on the Advanced Hardware Engineering DSP team, you'll be working alongside those that architect, design, and develop our state-of-the-art hardware and Signal Processing Systems required for enabling autonomous mobility. At Zoox, you'll collaborate with a team of world-class engineers with diverse backgrounds in areas such as AI, robotics, machine learning, localization, computer vision, and simulation. You'll master new technologies while working on code, algorithms, and research in your area of expertise to create and refine key systems and move Zoox forward.\\n\\nAs an intern in the DSP team you will be working on design and implementation of signal processing and ML algorithms related to radars, depth cameras, audio subsystems and Lidars. We are looking for curious and highly mathematical minds to work with us.\",\n",
      "  \"prerequisites\": {\n",
      "    \"technicalQualifications\": [\n",
      "      \"Proficiency in C, C++, Python and/or Matlab\",\n",
      "      \"Course work in Digital Signal Processing, Circuits and systems, Optimum filtering, Probability and Statistics, Random Signals and Noise\",\n",
      "      \"Hands on experience related to digital signal processors and/or algorithm design in one or more areas related to radar, lidar, depth cameras, audio or other signal processing related fields\",\n",
      "      \"Applied machine learning experience related to computer vision, audio or other related area is a plus\"\n",
      "    ],\n",
      "    \"languageRequirements\": []\n",
      "  },\n",
      "  \"preferredSkills\": [],\n",
      "  \"compensation\": {\n",
      "    \"monthlySalaryRange\": \"$6,500 to $9,500\",\n",
      "    \"additionalBenefits\": [\n",
      "      \"Medical insurance\",\n",
      "      \"401k\",\n",
      "      \"Housing stipend\"\n",
      "    ]\n",
      "  }\n",
      "}\n"
     ]
    }
   ],
   "source": [
    "\n",
    "result = get_completion(get_messages(basic_prompt))\n",
    "print(result.choices[0]['message']['content'])"
   ]
  }
 ],
 "metadata": {
  "kernelspec": {
   "display_name": "venv",
   "language": "python",
   "name": "python3"
  },
  "language_info": {
   "codemirror_mode": {
    "name": "ipython",
    "version": 3
   },
   "file_extension": ".py",
   "mimetype": "text/x-python",
   "name": "python",
   "nbconvert_exporter": "python",
   "pygments_lexer": "ipython3",
   "version": "3.11.0"
  }
 },
 "nbformat": 4,
 "nbformat_minor": 2
}
