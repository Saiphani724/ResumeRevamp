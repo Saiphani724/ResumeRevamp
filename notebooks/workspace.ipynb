{
 "cells": [
  {
   "cell_type": "code",
   "execution_count": 1,
   "metadata": {},
   "outputs": [],
   "source": [
    "import os\n",
    "import json\n",
    "import openai\n",
    "import random"
   ]
  },
  {
   "cell_type": "code",
   "execution_count": 2,
   "metadata": {},
   "outputs": [],
   "source": [
    "## PASTE key from .env \n",
    "model = 'gpt-3.5-0613'\n",
    "openai.api_key = os.getenv('OPENAI_API_KEY')"
   ]
  },
  {
   "cell_type": "code",
   "execution_count": 37,
   "metadata": {},
   "outputs": [
    {
     "name": "stdout",
     "output_type": "stream",
     "text": [
      "ramp_frontend.txt\n"
     ]
    }
   ],
   "source": [
    "dir_path = '../db/job_details'\n",
    "files = os.listdir(dir_path)\n",
    "random_file = random.choice(files)\n",
    "print(random_file)\n",
    "with open(os.path.join(dir_path, random_file), 'r') as file:\n",
    "    jobdetails_txt = file.read()"
   ]
  },
  {
   "cell_type": "code",
   "execution_count": 38,
   "metadata": {},
   "outputs": [],
   "source": [
    "prompt = f\"\"\"\n",
    "\n",
    "Please provide me the following in JSON format:\n",
    "\n",
    "- Job Title: The role that the job details are about\n",
    "- Job Description: A description of the job\n",
    "- Prerequisites: The minimum skills required for the job. Please include all necessary requirements for the job.\n",
    "- Preferred Qualifications: The skills or requirements that are not necessary but are preferred for the job.Any additional requirements comes under this category.\n",
    "- Others: Any other information that you would like to include in the job details.\n",
    "Please make sure not to repeat data in multiple fields.\n",
    "\n",
    "Here is the text format of the job details.You will have to parse this into the above-mentioned format:\n",
    "{jobdetails_txt}\n",
    "\"\"\""
   ]
  },
  {
   "cell_type": "code",
   "execution_count": 39,
   "metadata": {},
   "outputs": [
    {
     "name": "stdout",
     "output_type": "stream",
     "text": [
      "{\n",
      "  \"Job Title\": \"Frontend and Full Stack Engineering Intern\",\n",
      "  \"Job Description\": \"Ramp is seeking frontend and full stack engineering interns to join their engineering team. The interns will be responsible for building performant, beautiful, and usable interfaces that solve complex needs for growing businesses. They will work in cross-functional teams, incorporate customer feedback, and help establish engineering processes and systems. The ideal candidate is currently pursuing a B.S. in Computer Science or a related field, has proficiency in JavaScript and object-oriented programming languages, and has a track record of shipping high-quality products. They should have a desire to work in a fast-paced environment and align with Ramp's core values.\",\n",
      "  \"Prerequisites\": \"Currently pursuing a B.S. (or higher) in Computer Science or a related technical field, with an expected graduation date between 2023 - 2025. Proficiency in JavaScript, with a knack for getting the visuals right. Experience with one or more object-oriented programming languages. Track record of shipping high quality products and features or a portfolio of side projects. Ability to turn business and product ideas into engineering solutions. Desire to work in a fast-paced environment, continuously grow, and master your craft. Alignment with Ramp's core values of enabling businesses to grow more by spending less.\",\n",
      "  \"Preferred Qualifications\": \"Proficiency in React v16+. Familiarity with or desire to learn our tech stack which includes, but not limited to: Flask (Python), Elixir, AWS, RabbitMQ, PostgreSQL. Passion for, or curiosity to learn, financial technology.\",\n",
      "  \"Others\": \"The hourly rate for this internship is $60 USD + housing stipend. Ramp offers benefits such as a M1 Pro Macbook Pro, catered lunches in NYC office, 100% medical, dental & vision insurance coverage, 401k with employer match, flexible PTO, fertility HRA, WFH stipend, wellness stipend, parental leave, relocation support, and pet insurance.\"\n",
      "}\n"
     ]
    }
   ],
   "source": [
    "def get_messages(prompt):\n",
    "  messages = [\n",
    "    {\n",
    "    \"role\": \"user\",\n",
    "    \"content\": prompt,\n",
    "    }\n",
    "  ]\n",
    "  return messages\n",
    "\n",
    "def get_completion(messages):\n",
    "        response = openai.ChatCompletion.create(\n",
    "            model='gpt-3.5-turbo-0613',\n",
    "            messages=messages,\n",
    "            temperature=0\n",
    "        )\n",
    "        return response\n",
    "\n",
    "\n",
    "import json\n",
    "(json.dumps(prompt))\n",
    "\n",
    "result = get_completion(get_messages(prompt))\n",
    "print(result.choices[0]['message']['content'])"
   ]
  }
 ],
 "metadata": {
  "kernelspec": {
   "display_name": "venv",
   "language": "python",
   "name": "python3"
  },
  "language_info": {
   "codemirror_mode": {
    "name": "ipython",
    "version": 3
   },
   "file_extension": ".py",
   "mimetype": "text/x-python",
   "name": "python",
   "nbconvert_exporter": "python",
   "pygments_lexer": "ipython3",
   "version": "3.11.9"
  }
 },
 "nbformat": 4,
 "nbformat_minor": 2
}
