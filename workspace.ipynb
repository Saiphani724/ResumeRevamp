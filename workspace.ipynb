{
 "cells": [
  {
   "cell_type": "code",
   "execution_count": 13,
   "metadata": {},
   "outputs": [],
   "source": [
    "import os\n",
    "import json\n",
    "import openai\n",
    "import random"
   ]
  },
  {
   "cell_type": "code",
   "execution_count": 23,
   "metadata": {},
   "outputs": [],
   "source": [
    "## PASTE key from .env \n",
    "model = 'gpt-3.5-0613'\n",
    "openai.api_key = os.getenv('OPENAI_API_KEY')"
   ]
  },
  {
   "cell_type": "code",
   "execution_count": 56,
   "metadata": {},
   "outputs": [
    {
     "name": "stdout",
     "output_type": "stream",
     "text": [
      "vectra_DataScienceInternship.txt\n"
     ]
    }
   ],
   "source": [
    "dir_path = './job_details'\n",
    "files = os.listdir(dir_path)\n",
    "random_file = random.choice(files)\n",
    "print(random_file)\n",
    "with open(os.path.join(dir_path, random_file), 'r') as file:\n",
    "    jobdetails_txt = file.read()"
   ]
  },
  {
   "cell_type": "code",
   "execution_count": 57,
   "metadata": {},
   "outputs": [],
   "source": [
    "prompt = f\"\"\"\n",
    "\n",
    "Please provide me the following in JSON format.\n",
    "\n",
    "Job Title should be the role that the job details is about\n",
    "\n",
    "job description containing the data as it is\n",
    "\n",
    "Prerequisites should contain the minimum skills required for the job and also include all requirements which are necessary for the job and it may not be straight forward look for \n",
    "what is required for the job and include it in the prerequisites\n",
    "\n",
    "Prefered qualifications should contain the skills which are not necessary but are prefered for the job\n",
    "\n",
    "\n",
    "Make sure to not repeat data in multiple fields\n",
    "\n",
    "Here is the text format of the job details\n",
    "{jobdetails_txt}\n",
    "\"\"\""
   ]
  },
  {
   "cell_type": "code",
   "execution_count": 58,
   "metadata": {},
   "outputs": [
    {
     "name": "stdout",
     "output_type": "stream",
     "text": [
      "{\n",
      "  \"Job Title\": \"Data Scientist Intern\",\n",
      "  \"Job Description\": \"VectraÂ® is the leader in AI-driven threat detection and response for hybrid and multi-cloud enterprises.\\n\\nThe Vectra AI Platform delivers integrated signal across public cloud, SaaS, identity, and data center networks in a single platform. Powered by patented Attack Signal Intelligence, it empowers security teams to rapidly prioritize, investigate and respond to the most advanced cyber-attacks. With 35 patents in AI-driven threat detection and the most vendor references in MITRE D3FEND, organizations worldwide rely on the Vectra AI to move at the speed and scale of hybrid attackers. For more information, visit www.vectra.ai.\\n\\nData Scientist Intern\\n\\nat Vectra AI\\n\\nSan Jose, CA\\n\\nVectra delivers a new class of real-time threat detection and advanced analysis of active network intrusions. Vectra picks up where perimeter security leaves off using AI to provide deep, continuous analysis of both internal and Internet-facing network traffic for all phases of the attack progression as attackers attempt to breach, spy, spread, and steal within networks.\\n\\nVectra directly analyzes network traffic in real time using combination of patent-pending data science, machine learning, and behavioral analysis to detect attacker behaviors and user anomalies in the network. All detections are algorithmically correlated and prioritized to show an attack in context, and Vectra machine learning adapts as attacks evolve.\\n\\nPosition Overview:\\n\\nApply cutting edge machine learning, artificial intelligence, and modeling techniques to stop hackers in real time as they attack networks. As part of the data science internship program, you will directly impact the product by developing new methods using cutting edge techniques to detect malicious and anomalous behaviors on the network.\\n\\nWe are looking for qualified undergraduate and graduate interns eager to learn and deliver a project that will be used in the product.\",\n",
      "  \"Prerequisites\": [\n",
      "    \"Undergraduate or Graduate major focusing on Computer Science, Engineering, or similar computational discipline\",\n",
      "    \"Python programming experience\",\n",
      "    \"Strong machine learning knowledge and/or mathematical foundations with experience solving tough, real-world problems\",\n",
      "    \"Excellent collaboration skills\"\n",
      "  ],\n",
      "  \"Preferred Qualifications\": []\n",
      "}\n"
     ]
    }
   ],
   "source": [
    "def get_messages(prompt):\n",
    "  messages = [\n",
    "    {\n",
    "    \"role\": \"user\",\n",
    "    \"content\": prompt,\n",
    "    }\n",
    "  ]\n",
    "  return messages\n",
    "\n",
    "def get_completion(messages):\n",
    "        response = openai.ChatCompletion.create(\n",
    "            model='gpt-3.5-turbo-0613',\n",
    "            messages=messages,\n",
    "            temperature=0\n",
    "        )\n",
    "        return response\n",
    "\n",
    "\n",
    "import json\n",
    "(json.dumps(prompt))\n",
    "\n",
    "result = get_completion(get_messages(prompt))\n",
    "print(result.choices[0]['message']['content'])"
   ]
  }
 ],
 "metadata": {
  "kernelspec": {
   "display_name": "venv",
   "language": "python",
   "name": "python3"
  },
  "language_info": {
   "codemirror_mode": {
    "name": "ipython",
    "version": 3
   },
   "file_extension": ".py",
   "mimetype": "text/x-python",
   "name": "python",
   "nbconvert_exporter": "python",
   "pygments_lexer": "ipython3",
   "version": "3.11.0"
  }
 },
 "nbformat": 4,
 "nbformat_minor": 2
}
